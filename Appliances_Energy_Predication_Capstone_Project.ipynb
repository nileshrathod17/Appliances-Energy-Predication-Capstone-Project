{
  "nbformat": 4,
  "nbformat_minor": 0,
  "metadata": {
    "colab": {
      "name": "Appliances-Energy-Predication-Capstone-Project.ipynb",
      "provenance": [],
      "authorship_tag": "ABX9TyOz/puq35ErPFQgWc9cb+my",
      "include_colab_link": true
    },
    "kernelspec": {
      "name": "python3",
      "display_name": "Python 3"
    },
    "language_info": {
      "name": "python"
    }
  },
  "cells": [
    {
      "cell_type": "markdown",
      "metadata": {
        "id": "view-in-github",
        "colab_type": "text"
      },
      "source": [
        "<a href=\"https://colab.research.google.com/github/nileshrathod17/Appliances-Energy-Predication-Capstone-Project/blob/main/Appliances_Energy_Predication_Capstone_Project.ipynb\" target=\"_parent\"><img src=\"https://colab.research.google.com/assets/colab-badge.svg\" alt=\"Open In Colab\"/></a>"
      ]
    },
    {
      "cell_type": "markdown",
      "source": [
        "\n",
        "\n",
        "Supervised ML- Regression \n",
        "\n",
        "Appliances-Energy-Predication-Capstone-Project\n",
        "\n",
        "\n",
        "\n",
        "\n",
        "\n",
        "In this time of global uncertainty world needs energy and in increasing quantities to support economic and social progress and build a better quality of life, in particular in developing countries. But even in today’s time there are many places especially in developing world where there are outages. These outages are primary because of excess load consumed by appliances at home. Heating and cooling appliances takes most power in house. In this project we will be analysing the appliance usage in the house gathered via home sensors. All readings are taken at 10 mins intervals for 4.5 months . The goal is to predict energy consumption by appliances .\n",
        "In the age of smart homes, ability to predict energy consumption can not only save money for end user but can also help in generating money for user by giving excess energy back to Grid (in case of solar panels usage). In this case regression analysis will be used to predict Appliance energy usage based on data collected from various sensors.\n",
        "\n",
        "Problem Statement\n",
        "We should predict Appliance energy consumption for a house based on factors like temperature, humidity & pressure . In order to achieve this, we need to develop a supervised learning model using regression algorithms. Regression algorithms are used as data consist of continuous features and there are no identification of appliances in dataset.\n",
        "\n",
        "The Data\n",
        "The date sets can be downloaded from Kaggle .\n",
        "There are 29 features to describe appliances energy use :\n",
        "1. date : time year-month-day hour:minute:second\n",
        "2. lights : energy use of light fixtures in the house in Wh\n",
        "3. T1 : Temperature in kitchen area, in Celsius\n",
        "4. T2 : Temperature in living room area, in Celsius\n",
        "5. T3 : Temperature in laundry room area\n",
        "6. T4 : Temperature in office room, in Celsius\n",
        "7. T5 : Temperature in bathroom, in Celsius\n",
        "8. T6 : Temperature outside the building (north side), in Celsius\n",
        "9. T7 : Temperature in ironing room, in Celsius\n",
        "10.T8 : Temperature in teenager room 2, in Celsius\n",
        "11. T9 : Temperature in parents’ room, in Celsius\n",
        "12. T_out : Temperature outside (from Chievres weather station), in Celsius\n",
        "13. Tdewpoint : (from Chievres weather station), Â°C\n",
        "14. RH_1 : Humidity in kitchen area, in %\n",
        "15. RH_2 : Humidity in living room area, in %\n",
        "16. RH_3 : Humidity in laundry room area, in %\n",
        "17. RH_4 : Humidity in office room, in %\n",
        "18. RH_5 : Humidity in bathroom, in %\n",
        "19. RH_6 : Humidity outside the building (north side), in %\n",
        "20. RH_7 : Humidity in ironing room, in %\n",
        "21. RH_8 : Humidity in teenager room 2, in %\n",
        "22. RH_9 : Humidity in parents’ room, in %\n",
        "23. RH_out :Humidity outside (from Chievres weather station), in %\n",
        "24. Pressure : (from Chievres weather station), in mm Hg\n",
        "25. Wind speed: (from Chievres weather station), in m/s\n",
        "26. Visibility :(from Chievres weather station), in km\n",
        "27. Rv1 :Random variable 1, non-dimensional\n",
        "28. Rv2 :Random variable 2, non-dimensional\n",
        "29. Appliances : Total energy used by appliances, in Wh"
      ],
      "metadata": {
        "id": "rsFx4goH1yj-"
      }
    },
    {
      "cell_type": "code",
      "source": [
        ""
      ],
      "metadata": {
        "id": "JDz-2kD92EMV"
      },
      "execution_count": null,
      "outputs": []
    }
  ]
}